{
 "cells": [
  {
   "cell_type": "code",
   "execution_count": 1,
   "metadata": {},
   "outputs": [],
   "source": [
    "import logging\n",
    "logging.basicConfig (filename=\"new_log.log\",level= logging.DEBUG, format= \"%(asctime)s %(levelname)s %(message)s\", filemode=\"w\")\n",
    "logging.debug(\"This is my log\")"
   ]
  },
  {
   "cell_type": "code",
   "execution_count": 2,
   "metadata": {},
   "outputs": [
    {
     "name": "stdout",
     "output_type": "stream",
     "text": [
      "example.txt\n"
     ]
    }
   ],
   "source": [
    "try:\n",
    "    f=open(\"example.txt\",\"w\")\n",
    "    f.write(\"This is a placement assignment\")\n",
    "    f.close()\n",
    "    print(f.name)\n",
    "except Exception as e:\n",
    "    print(\"The file is not created\",e)"
   ]
  },
  {
   "cell_type": "code",
   "execution_count": 3,
   "metadata": {},
   "outputs": [
    {
     "name": "stdout",
     "output_type": "stream",
     "text": [
      "This is a placement assignment "
     ]
    }
   ],
   "source": [
    "try:\n",
    "    a=open(\"example.txt\",\"r+\")\n",
    "    for line in a:\n",
    "        print (line, end=\" \")\n",
    "        stripped_line=line.strip()\n",
    "        replace_line=stripped_line.replace(\"placement\",\"screening\")\n",
    "    a.close()\n",
    "    new_file= open(\"example.txt\",\"w\")\n",
    "    new_file.write(replace_line)\n",
    "    new_file.close()\n",
    "except Exception as e1:\n",
    "    print(\"The file cannot write\",e1)"
   ]
  },
  {
   "cell_type": "code",
   "execution_count": 4,
   "metadata": {},
   "outputs": [
    {
     "name": "stdout",
     "output_type": "stream",
     "text": [
      "This is a screening assignment "
     ]
    }
   ],
   "source": [
    "new_file=open(\"example.txt\",\"r+\")\n",
    "for i in new_file:\n",
    "    print (i, end=\" \")"
   ]
  },
  {
   "cell_type": "markdown",
   "metadata": {},
   "source": [
    "### Demonstrate use of abstract class, multiple inheritance, and decorator in python using examples."
   ]
  },
  {
   "cell_type": "code",
   "execution_count": 5,
   "metadata": {},
   "outputs": [],
   "source": [
    "#Abstract class with multiple inheritance\n",
    "try:\n",
    "    class xyz:\n",
    "        def __init__ (self,a,b,c):\n",
    "            self.a= a\n",
    "            self.b= b\n",
    "            self.c= c\n",
    "        def test (self):\n",
    "            print(\"xyz\")\n",
    "    class xyz1 (xyz):\n",
    "        def test1 (self):\n",
    "            print(\"xyz1\")\n",
    "    class xyz2 (xyz):\n",
    "        def test2 (self):\n",
    "            print(\"xyz2\")    \n",
    "    class xyz3 (xyz):\n",
    "        def test3 (self):\n",
    "            print(\"xyz3\")\n",
    "except Exception as e:\n",
    "    print(\"This is my code\",e3)\n",
    "  \n",
    "        \n",
    "        \n",
    "m= xyz2(5,6,7)\n",
    "\n",
    "n= xyz3(4,5,6)"
   ]
  },
  {
   "cell_type": "code",
   "execution_count": 6,
   "metadata": {},
   "outputs": [
    {
     "name": "stdout",
     "output_type": "stream",
     "text": [
      "This is a static method\n"
     ]
    }
   ],
   "source": [
    "#decorator in python\n",
    "try:\n",
    "    class Batch_number:\n",
    "        batchnumber= ' '\n",
    "        def __init__ (self, a,b,c):\n",
    "            self.a= a\n",
    "            self.b= b\n",
    "            self.c= c\n",
    "        @staticmethod\n",
    "        def batch():\n",
    "            print(\"This is a static method\")\n",
    "    bn= Batch_number(3,4,5)\n",
    "    bn.batch()\n",
    "except Exception as e4:\n",
    "    pint(\"This is another code\")"
   ]
  }
 ],
 "metadata": {
  "kernelspec": {
   "display_name": "Python 3",
   "language": "python",
   "name": "python3"
  },
  "language_info": {
   "codemirror_mode": {
    "name": "ipython",
    "version": 3
   },
   "file_extension": ".py",
   "mimetype": "text/x-python",
   "name": "python",
   "nbconvert_exporter": "python",
   "pygments_lexer": "ipython3",
   "version": "3.7.6"
  }
 },
 "nbformat": 4,
 "nbformat_minor": 4
}
